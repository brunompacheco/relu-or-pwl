{
 "cells": [
  {
   "cell_type": "code",
   "execution_count": 2,
   "metadata": {},
   "outputs": [],
   "source": [
    "%load_ext autoreload\n",
    "%autoreload 2"
   ]
  },
  {
   "cell_type": "code",
   "execution_count": 3,
   "metadata": {},
   "outputs": [],
   "source": [
    "import numpy as np\n",
    "import scipy as sp\n",
    "\n",
    "from src.data import load_riser_data, split_curve"
   ]
  },
  {
   "cell_type": "code",
   "execution_count": 240,
   "metadata": {},
   "outputs": [
    {
     "data": {
      "text/plain": [
       "bsw          5\n",
       "rgl         10\n",
       "qliq         6\n",
       "psup         2\n",
       "delta_p    533\n",
       "dtype: int64"
      ]
     },
     "execution_count": 240,
     "metadata": {},
     "output_type": "execute_result"
    }
   ],
   "source": [
    "df_riser = load_riser_data('data/riser_large.csv')\n",
    "\n",
    "df_train, df_test = split_curve(df_riser, 1/4)\n",
    "\n",
    "df_train = df_train[['bsw', 'rgl', 'qliq', 'psup', 'delta_p']]  # sort by order of breakpoints\n",
    "df_train = df_train.round(6)\n",
    "\n",
    "df_train.nunique()"
   ]
  },
  {
   "cell_type": "code",
   "execution_count": 241,
   "metadata": {},
   "outputs": [
    {
     "data": {
      "text/html": [
       "<div>\n",
       "<style scoped>\n",
       "    .dataframe tbody tr th:only-of-type {\n",
       "        vertical-align: middle;\n",
       "    }\n",
       "\n",
       "    .dataframe tbody tr th {\n",
       "        vertical-align: top;\n",
       "    }\n",
       "\n",
       "    .dataframe thead th {\n",
       "        text-align: right;\n",
       "    }\n",
       "</style>\n",
       "<table border=\"1\" class=\"dataframe\">\n",
       "  <thead>\n",
       "    <tr style=\"text-align: right;\">\n",
       "      <th></th>\n",
       "      <th>amin</th>\n",
       "      <th>amax</th>\n",
       "    </tr>\n",
       "  </thead>\n",
       "  <tbody>\n",
       "    <tr>\n",
       "      <th>bsw</th>\n",
       "      <td>0.010000</td>\n",
       "      <td>0.990000</td>\n",
       "    </tr>\n",
       "    <tr>\n",
       "      <th>rgl</th>\n",
       "      <td>50.000000</td>\n",
       "      <td>1000.000000</td>\n",
       "    </tr>\n",
       "    <tr>\n",
       "      <th>qliq</th>\n",
       "      <td>300.000000</td>\n",
       "      <td>6500.000000</td>\n",
       "    </tr>\n",
       "    <tr>\n",
       "      <th>psup</th>\n",
       "      <td>10.000000</td>\n",
       "      <td>60.000000</td>\n",
       "    </tr>\n",
       "    <tr>\n",
       "      <th>delta_p</th>\n",
       "      <td>22.546241</td>\n",
       "      <td>492.470025</td>\n",
       "    </tr>\n",
       "  </tbody>\n",
       "</table>\n",
       "</div>"
      ],
      "text/plain": [
       "               amin         amax\n",
       "bsw        0.010000     0.990000\n",
       "rgl       50.000000  1000.000000\n",
       "qliq     300.000000  6500.000000\n",
       "psup      10.000000    60.000000\n",
       "delta_p   22.546241   492.470025"
      ]
     },
     "execution_count": 241,
     "metadata": {},
     "output_type": "execute_result"
    }
   ],
   "source": [
    "df_train.apply([np.min, np.max]).T"
   ]
  },
  {
   "cell_type": "code",
   "execution_count": 308,
   "metadata": {},
   "outputs": [
    {
     "data": {
      "text/plain": [
       "(50, 4)"
      ]
     },
     "execution_count": 308,
     "metadata": {},
     "output_type": "execute_result"
    }
   ],
   "source": [
    "X = df_train.values[:,:-1]\n",
    "y = df_train['delta_p'].values\n",
    "\n",
    "# only rgl and bsw, for now\n",
    "X = X[:50]\n",
    "y = y[:50]\n",
    "\n",
    "X.shape"
   ]
  },
  {
   "cell_type": "code",
   "execution_count": 328,
   "metadata": {},
   "outputs": [],
   "source": [
    "# unique values of x\n",
    "X_breakpoints = [np.sort(np.unique(x)) for x in X.T]\n",
    "X_breakpoints = X_breakpoints[:2]  # only rgl and bsw, for now\n",
    "n_X = list(map(len, X_breakpoints))\n",
    "\n",
    "# curve = df_train.set_index(['bsw', 'rgl', 'qliq', 'psup',])['delta_p']\n",
    "curve = df_train[:50].set_index(['bsw', 'rgl',])['delta_p']"
   ]
  },
  {
   "cell_type": "code",
   "execution_count": 344,
   "metadata": {},
   "outputs": [
    {
     "data": {
      "text/plain": [
       "array([[1.00000000e-02, 2.16316000e-01],\n",
       "       [5.00000000e+01, 1.47435897e+02]])"
      ]
     },
     "execution_count": 344,
     "metadata": {},
     "output_type": "execute_result"
    }
   ],
   "source": [
    "# x_input = np.array([0.01, 100, 700, 50])\n",
    "x_input = np.array([0.02, 100,])\n",
    "\n",
    "eta = list()\n",
    "hypercube_limits = list()\n",
    "for i in range(len(x_input)):\n",
    "    x_i_breakpoints = X_breakpoints[i]\n",
    "    \n",
    "    # faces of the hypercube of breakpoints that enclose the input\n",
    "    x_i_L = x_i_breakpoints[x_i_breakpoints <= x_input[i]][-1]\n",
    "    x_i_H = x_i_breakpoints[x_i_breakpoints > x_input[i]][0]\n",
    "    hypercube_limits.append([x_i_L, x_i_H])\n",
    "\n",
    "    # relative position of the input with respect to the hypercube's faces\n",
    "    eta.append((x_input[i] - x_i_L) / (x_i_H - x_i_L))\n",
    "\n",
    "hypercube_limits = np.array(hypercube_limits)\n",
    "hypercube_limits"
   ]
  },
  {
   "cell_type": "code",
   "execution_count": 345,
   "metadata": {},
   "outputs": [],
   "source": [
    "n = len(n_X)  # number of variables\n",
    "\n",
    "# weight of each vertex of the hypercube.\n",
    "theta = np.zeros((2**len(n_X),2))\n",
    "\n",
    "# indices of theta in crescent order, that is, theta_indices[3] == [0,1,1] means\n",
    "# that theta[3] is associated with the vertex with x0_L, x1_H and x2_H\n",
    "theta_indices = np.mgrid[*[slice(2) for _ in range(len(n_X))]].T.reshape(-1,len(n_X))[:,::-1]\n",
    "\n",
    "# constraints on \"high\" faces\n",
    "A_H = list()\n",
    "b_H = list()\n",
    "for i in range(n):\n",
    "    # weights of each theta variable\n",
    "    a = theta_indices[:,i] == 1\n",
    "    b_i = eta[i]\n",
    "\n",
    "    A_H.append(a.astype(float))\n",
    "    b_H.append(b_i)\n",
    "\n",
    "A_H = np.stack(A_H)\n",
    "b_H = np.array(b_H)\n",
    "\n",
    "# constraints on \"low\" faces\n",
    "A_L = list()\n",
    "b_L = list()\n",
    "for i in range(n):\n",
    "    # weights of each theta variable\n",
    "    a = theta_indices[:,i] == 0\n",
    "    b_i = 1 - eta[i]\n",
    "\n",
    "    A_L.append(a.astype(float))\n",
    "    b_L.append(b_i)\n",
    "\n",
    "A_L = np.stack(A_L)\n",
    "b_L = np.array(b_L)\n",
    "\n",
    "assert np.all(A_L + A_H == 1)\n",
    "assert np.all(b_L + b_H == 1)"
   ]
  },
  {
   "cell_type": "code",
   "execution_count": 346,
   "metadata": {},
   "outputs": [
    {
     "data": {
      "text/plain": [
       "(array([[ -98.266316,  -38.744453, -101.191013,  -42.463915]]), array([0.]))"
      ]
     },
     "execution_count": 346,
     "metadata": {},
     "output_type": "execute_result"
    }
   ],
   "source": [
    "y_vertices = list()\n",
    "for theta_index in theta_indices:\n",
    "    x_vertex = np.diag(hypercube_limits.T[theta_index])\n",
    "    y_vertices.append(curve.loc[*x_vertex])\n",
    "\n",
    "y_vertices = np.array(y_vertices)\n",
    "\n",
    "A_y = -y_vertices[None,:]\n",
    "b_y = np.array([0.,])\n",
    "\n",
    "A_y, b_y"
   ]
  },
  {
   "cell_type": "code",
   "execution_count": 347,
   "metadata": {},
   "outputs": [
    {
     "data": {
      "text/plain": [
       "((5, 5), (5, 1))"
      ]
     },
     "execution_count": 347,
     "metadata": {},
     "output_type": "execute_result"
    }
   ],
   "source": [
    "A = np.bmat([\n",
    "    [A_L,np.zeros((len(n_X),1))],\n",
    "    [A_H,np.zeros((len(n_X),1))],\n",
    "    [A_y,np.ones((1,1))],\n",
    "])\n",
    "b = np.bmat([b_L, b_H, b_y]).T\n",
    "\n",
    "A.shape, b.shape"
   ]
  },
  {
   "cell_type": "code",
   "execution_count": 348,
   "metadata": {},
   "outputs": [
    {
     "data": {
      "text/plain": [
       "(5,)"
      ]
     },
     "execution_count": 348,
     "metadata": {},
     "output_type": "execute_result"
    }
   ],
   "source": [
    "# maximize the y value\n",
    "c = np.eye(len(theta) + 1)[-1]\n",
    "c.shape"
   ]
  },
  {
   "cell_type": "code",
   "execution_count": 349,
   "metadata": {},
   "outputs": [],
   "source": [
    "bounds = [(0.,1.),] * len(theta)\n",
    "bounds.append((0,None))"
   ]
  },
  {
   "cell_type": "code",
   "execution_count": 350,
   "metadata": {},
   "outputs": [
    {
     "data": {
      "text/plain": [
       "array([4.38372765e-01, 5.13157897e-01, 4.84693383e-02, 0.00000000e+00,\n",
       "       6.78639601e+01])"
      ]
     },
     "execution_count": 350,
     "metadata": {},
     "output_type": "execute_result"
    }
   ],
   "source": [
    "from scipy.optimize import linprog\n",
    "\n",
    "\n",
    "res = linprog(c, A_eq=A, b_eq=b, bounds=bounds)\n",
    "\n",
    "res.x"
   ]
  },
  {
   "cell_type": "code",
   "execution_count": 351,
   "metadata": {},
   "outputs": [
    {
     "data": {
      "text/plain": [
       "[(0.438372764670858, array([0, 0])),\n",
       " (0.5131578970325483, array([0, 1])),\n",
       " (0.04846933829659358, array([1, 0])),\n",
       " (0.0, array([1, 1]))]"
      ]
     },
     "execution_count": 351,
     "metadata": {},
     "output_type": "execute_result"
    }
   ],
   "source": [
    "list(zip(res.x, theta_indices))"
   ]
  },
  {
   "cell_type": "code",
   "execution_count": 352,
   "metadata": {},
   "outputs": [
    {
     "data": {
      "text/plain": [
       "array([ 98.266316,  38.744453, 101.191013,  42.463915])"
      ]
     },
     "execution_count": 352,
     "metadata": {},
     "output_type": "execute_result"
    }
   ],
   "source": [
    "y_vertices"
   ]
  },
  {
   "cell_type": "code",
   "execution_count": 353,
   "metadata": {},
   "outputs": [
    {
     "data": {
      "text/plain": [
       "[0.04846933829659358, 0.5131578970325484]"
      ]
     },
     "execution_count": 353,
     "metadata": {},
     "output_type": "execute_result"
    }
   ],
   "source": [
    "eta"
   ]
  },
  {
   "attachments": {},
   "cell_type": "markdown",
   "metadata": {},
   "source": [
    "### get all combinations with one dimension fixed"
   ]
  },
  {
   "cell_type": "code",
   "execution_count": 178,
   "metadata": {},
   "outputs": [
    {
     "data": {
      "text/plain": [
       "array([[[0, 0, 0],\n",
       "        [0, 0, 1]],\n",
       "\n",
       "       [[1, 0, 0],\n",
       "        [1, 0, 1]]])"
      ]
     },
     "execution_count": 178,
     "metadata": {},
     "output_type": "execute_result"
    }
   ],
   "source": [
    "n=3 # number of vars\n",
    "high = False\n",
    "i=1\n",
    "\n",
    "theta_indices = np.mgrid[:2,:2,:2].T.reshape(-1,3)[:,::-1]\n",
    "theta_indices.reshape(-1,2**(n-i-1),3)[int(high)::2]"
   ]
  },
  {
   "cell_type": "code",
   "execution_count": 191,
   "metadata": {},
   "outputs": [
    {
     "data": {
      "text/plain": [
       "array([['100', '101', '110', '111']], dtype='<U3')"
      ]
     },
     "execution_count": 191,
     "metadata": {},
     "output_type": "execute_result"
    }
   ],
   "source": [
    "n=3 # number of vars\n",
    "high = True\n",
    "i=0\n",
    "\n",
    "theta_indices = np.array([tis[0]+tis[1]+tis[2] for tis in theta_indices.astype(str)])\n",
    "theta_indices.reshape(-1,2**(n-i-1))[int(high)::2]"
   ]
  }
 ],
 "metadata": {
  "kernelspec": {
   "display_name": "relu",
   "language": "python",
   "name": "python3"
  },
  "language_info": {
   "codemirror_mode": {
    "name": "ipython",
    "version": 3
   },
   "file_extension": ".py",
   "mimetype": "text/x-python",
   "name": "python",
   "nbconvert_exporter": "python",
   "pygments_lexer": "ipython3",
   "version": "3.11.3"
  },
  "orig_nbformat": 4
 },
 "nbformat": 4,
 "nbformat_minor": 2
}
