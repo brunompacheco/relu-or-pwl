{
 "cells": [
  {
   "cell_type": "code",
   "execution_count": 1,
   "metadata": {},
   "outputs": [],
   "source": [
    "from jax import random\n",
    "\n",
    "from src.net import NeuralNetwork\n",
    "\n",
    "from sklearn.utils.estimator_checks import check_estimator"
   ]
  },
  {
   "cell_type": "code",
   "execution_count": 2,
   "metadata": {},
   "outputs": [
    {
     "name": "stderr",
     "output_type": "stream",
     "text": [
      "WARNING:jax._src.lib.xla_bridge:No GPU/TPU found, falling back to CPU. (Set TF_CPP_MIN_LOG_LEVEL=0 and rerun for more info.)\n"
     ]
    },
    {
     "ename": "AttributeError",
     "evalue": "Can't pickle local object '_compile_NN_predict.<locals>.compiled_predict'",
     "output_type": "error",
     "traceback": [
      "\u001b[0;31m---------------------------------------------------------------------------\u001b[0m",
      "\u001b[0;31mAttributeError\u001b[0m                            Traceback (most recent call last)",
      "Cell \u001b[0;32mIn[2], line 4\u001b[0m\n\u001b[1;32m      1\u001b[0m key \u001b[39m=\u001b[39m random\u001b[39m.\u001b[39mPRNGKey(\u001b[39m1\u001b[39m)\n\u001b[1;32m      2\u001b[0m net \u001b[39m=\u001b[39m NeuralNetwork()\n\u001b[0;32m----> 4\u001b[0m check_estimator(net)\n",
      "File \u001b[0;32m~/miniconda3/envs/relu/lib/python3.11/site-packages/sklearn/utils/estimator_checks.py:633\u001b[0m, in \u001b[0;36mcheck_estimator\u001b[0;34m(estimator, generate_only, Estimator)\u001b[0m\n\u001b[1;32m    631\u001b[0m \u001b[39mfor\u001b[39;00m estimator, check \u001b[39min\u001b[39;00m checks_generator():\n\u001b[1;32m    632\u001b[0m     \u001b[39mtry\u001b[39;00m:\n\u001b[0;32m--> 633\u001b[0m         check(estimator)\n\u001b[1;32m    634\u001b[0m     \u001b[39mexcept\u001b[39;00m SkipTest \u001b[39mas\u001b[39;00m exception:\n\u001b[1;32m    635\u001b[0m         \u001b[39m# SkipTest is thrown when pandas can't be imported, or by checks\u001b[39;00m\n\u001b[1;32m    636\u001b[0m         \u001b[39m# that are in the xfail_checks tag\u001b[39;00m\n\u001b[1;32m    637\u001b[0m         warnings\u001b[39m.\u001b[39mwarn(\u001b[39mstr\u001b[39m(exception), SkipTestWarning)\n",
      "File \u001b[0;32m~/miniconda3/envs/relu/lib/python3.11/site-packages/sklearn/utils/_testing.py:188\u001b[0m, in \u001b[0;36m_IgnoreWarnings.__call__.<locals>.wrapper\u001b[0;34m(*args, **kwargs)\u001b[0m\n\u001b[1;32m    186\u001b[0m \u001b[39mwith\u001b[39;00m warnings\u001b[39m.\u001b[39mcatch_warnings():\n\u001b[1;32m    187\u001b[0m     warnings\u001b[39m.\u001b[39msimplefilter(\u001b[39m\"\u001b[39m\u001b[39mignore\u001b[39m\u001b[39m\"\u001b[39m, \u001b[39mself\u001b[39m\u001b[39m.\u001b[39mcategory)\n\u001b[0;32m--> 188\u001b[0m     \u001b[39mreturn\u001b[39;00m fn(\u001b[39m*\u001b[39margs, \u001b[39m*\u001b[39m\u001b[39m*\u001b[39mkwargs)\n",
      "File \u001b[0;32m~/miniconda3/envs/relu/lib/python3.11/site-packages/sklearn/utils/estimator_checks.py:1883\u001b[0m, in \u001b[0;36mcheck_estimators_pickle\u001b[0;34m(name, estimator_orig)\u001b[0m\n\u001b[1;32m   1880\u001b[0m estimator\u001b[39m.\u001b[39mfit(X, y)\n\u001b[1;32m   1882\u001b[0m \u001b[39m# pickle and unpickle!\u001b[39;00m\n\u001b[0;32m-> 1883\u001b[0m pickled_estimator \u001b[39m=\u001b[39m pickle\u001b[39m.\u001b[39mdumps(estimator)\n\u001b[1;32m   1884\u001b[0m module_name \u001b[39m=\u001b[39m estimator\u001b[39m.\u001b[39m\u001b[39m__module__\u001b[39m\n\u001b[1;32m   1885\u001b[0m \u001b[39mif\u001b[39;00m module_name\u001b[39m.\u001b[39mstartswith(\u001b[39m\"\u001b[39m\u001b[39msklearn.\u001b[39m\u001b[39m\"\u001b[39m) \u001b[39mand\u001b[39;00m \u001b[39mnot\u001b[39;00m (\n\u001b[1;32m   1886\u001b[0m     \u001b[39m\"\u001b[39m\u001b[39mtest_\u001b[39m\u001b[39m\"\u001b[39m \u001b[39min\u001b[39;00m module_name \u001b[39mor\u001b[39;00m module_name\u001b[39m.\u001b[39mendswith(\u001b[39m\"\u001b[39m\u001b[39m_testing\u001b[39m\u001b[39m\"\u001b[39m)\n\u001b[1;32m   1887\u001b[0m ):\n\u001b[1;32m   1888\u001b[0m     \u001b[39m# strict check for sklearn estimators that are not implemented in test\u001b[39;00m\n\u001b[1;32m   1889\u001b[0m     \u001b[39m# modules.\u001b[39;00m\n",
      "\u001b[0;31mAttributeError\u001b[0m: Can't pickle local object '_compile_NN_predict.<locals>.compiled_predict'"
     ]
    }
   ],
   "source": [
    "key = random.PRNGKey(1)\n",
    "net = NeuralNetwork()\n",
    "\n",
    "check_estimator(net)"
   ]
  },
  {
   "cell_type": "code",
   "execution_count": 4,
   "metadata": {},
   "outputs": [
    {
     "name": "stdout",
     "output_type": "stream",
     "text": [
      "check check_regressors_train failed\n",
      "\n"
     ]
    }
   ],
   "source": [
    "\n",
    "key = random.PRNGKey(1)\n",
    "net = NeuralNetwork()\n",
    "\n",
    "checks = check_estimator(net, generate_only=True)\n",
    "for estimator, check in checks:\n",
    "    if check.func.__name__ == 'check_estimators_pickle':\n",
    "        continue\n",
    "    try:\n",
    "        check(estimator)\n",
    "    except Exception as e:\n",
    "        print(f\"check {check.func.__name__} failed\")\n",
    "        print(e)\n",
    "        break"
   ]
  },
  {
   "cell_type": "code",
   "execution_count": 7,
   "metadata": {},
   "outputs": [
    {
     "ename": "AssertionError",
     "evalue": "",
     "output_type": "error",
     "traceback": [
      "\u001b[0;31m---------------------------------------------------------------------------\u001b[0m",
      "\u001b[0;31mAssertionError\u001b[0m                            Traceback (most recent call last)",
      "Cell \u001b[0;32mIn[7], line 1\u001b[0m\n\u001b[0;32m----> 1\u001b[0m check(estimator)\n",
      "File \u001b[0;32m~/miniconda3/envs/relu/lib/python3.11/site-packages/sklearn/utils/_testing.py:188\u001b[0m, in \u001b[0;36m_IgnoreWarnings.__call__.<locals>.wrapper\u001b[0;34m(*args, **kwargs)\u001b[0m\n\u001b[1;32m    186\u001b[0m \u001b[39mwith\u001b[39;00m warnings\u001b[39m.\u001b[39mcatch_warnings():\n\u001b[1;32m    187\u001b[0m     warnings\u001b[39m.\u001b[39msimplefilter(\u001b[39m\"\u001b[39m\u001b[39mignore\u001b[39m\u001b[39m\"\u001b[39m, \u001b[39mself\u001b[39m\u001b[39m.\u001b[39mcategory)\n\u001b[0;32m--> 188\u001b[0m     \u001b[39mreturn\u001b[39;00m fn(\u001b[39m*\u001b[39margs, \u001b[39m*\u001b[39m\u001b[39m*\u001b[39mkwargs)\n",
      "File \u001b[0;32m~/miniconda3/envs/relu/lib/python3.11/site-packages/sklearn/utils/estimator_checks.py:2898\u001b[0m, in \u001b[0;36mcheck_regressors_train\u001b[0;34m(name, regressor_orig, readonly_memmap, X_dtype)\u001b[0m\n\u001b[1;32m   2896\u001b[0m regressor\u001b[39m.\u001b[39mfit(X\u001b[39m.\u001b[39mtolist(), y_\u001b[39m.\u001b[39mtolist())\n\u001b[1;32m   2897\u001b[0m y_pred \u001b[39m=\u001b[39m regressor\u001b[39m.\u001b[39mpredict(X)\n\u001b[0;32m-> 2898\u001b[0m \u001b[39massert\u001b[39;00m y_pred\u001b[39m.\u001b[39mshape \u001b[39m==\u001b[39m y_\u001b[39m.\u001b[39mshape\n\u001b[1;32m   2900\u001b[0m \u001b[39m# TODO: find out why PLS and CCA fail. RANSAC is random\u001b[39;00m\n\u001b[1;32m   2901\u001b[0m \u001b[39m# and furthermore assumes the presence of outliers, hence\u001b[39;00m\n\u001b[1;32m   2902\u001b[0m \u001b[39m# skipped\u001b[39;00m\n\u001b[1;32m   2903\u001b[0m \u001b[39mif\u001b[39;00m \u001b[39mnot\u001b[39;00m _safe_tags(regressor, key\u001b[39m=\u001b[39m\u001b[39m\"\u001b[39m\u001b[39mpoor_score\u001b[39m\u001b[39m\"\u001b[39m):\n",
      "\u001b[0;31mAssertionError\u001b[0m: "
     ]
    }
   ],
   "source": [
    "check(estimator)"
   ]
  },
  {
   "cell_type": "code",
   "execution_count": 41,
   "metadata": {},
   "outputs": [
    {
     "ename": "AssertionError",
     "evalue": "The error message should contain one of the following patterns:\nUnknown label type\nGot Value '[2 3 3 1 1 2 0 3 1 1 2 1 2 2 3 0 2 2 0 1 1 3 2 1 3 1 0 3 1 1 3 3 1 0 1 2 0\n 2 3 0]' with dtype object is not a valid JAX array type. Only arrays of numeric types are supported by JAX.",
     "output_type": "error",
     "traceback": [
      "\u001b[0;31m---------------------------------------------------------------------------\u001b[0m",
      "\u001b[0;31mTypeError\u001b[0m                                 Traceback (most recent call last)",
      "File \u001b[0;32m~/miniconda3/envs/relu/lib/python3.11/site-packages/jax/_src/numpy/lax_numpy.py:1969\u001b[0m, in \u001b[0;36marray\u001b[0;34m(object, dtype, copy, order, ndmin)\u001b[0m\n\u001b[1;32m   1968\u001b[0m \u001b[39mtry\u001b[39;00m:\n\u001b[0;32m-> 1969\u001b[0m   dtype \u001b[39m=\u001b[39m dtypes\u001b[39m.\u001b[39m_lattice_result_type(\u001b[39m*\u001b[39mleaves)[\u001b[39m0\u001b[39m] \u001b[39mif\u001b[39;00m leaves \u001b[39melse\u001b[39;00m dtypes\u001b[39m.\u001b[39mfloat_\n\u001b[1;32m   1970\u001b[0m \u001b[39mexcept\u001b[39;00m \u001b[39mTypeError\u001b[39;00m:\n\u001b[1;32m   1971\u001b[0m   \u001b[39m# This happens if, e.g. one of the entries is a memoryview object.\u001b[39;00m\n\u001b[1;32m   1972\u001b[0m   \u001b[39m# This is rare, so we only handle it if the normal path fails.\u001b[39;00m\n",
      "File \u001b[0;32m~/miniconda3/envs/relu/lib/python3.11/site-packages/jax/_src/dtypes.py:465\u001b[0m, in \u001b[0;36m_lattice_result_type\u001b[0;34m(*args)\u001b[0m\n\u001b[1;32m    464\u001b[0m \u001b[39mdef\u001b[39;00m \u001b[39m_lattice_result_type\u001b[39m(\u001b[39m*\u001b[39margs: Any) \u001b[39m-\u001b[39m\u001b[39m>\u001b[39m Tuple[DType, \u001b[39mbool\u001b[39m]:\n\u001b[0;32m--> 465\u001b[0m   dtypes, weak_types \u001b[39m=\u001b[39m \u001b[39mzip\u001b[39m(\u001b[39m*\u001b[39m(_dtype_and_weaktype(arg) \u001b[39mfor\u001b[39;00m arg \u001b[39min\u001b[39;00m args))\n\u001b[1;32m    466\u001b[0m   \u001b[39mif\u001b[39;00m \u001b[39mlen\u001b[39m(dtypes) \u001b[39m==\u001b[39m \u001b[39m1\u001b[39m:\n",
      "File \u001b[0;32m~/miniconda3/envs/relu/lib/python3.11/site-packages/jax/_src/dtypes.py:465\u001b[0m, in \u001b[0;36m<genexpr>\u001b[0;34m(.0)\u001b[0m\n\u001b[1;32m    464\u001b[0m \u001b[39mdef\u001b[39;00m \u001b[39m_lattice_result_type\u001b[39m(\u001b[39m*\u001b[39margs: Any) \u001b[39m-\u001b[39m\u001b[39m>\u001b[39m Tuple[DType, \u001b[39mbool\u001b[39m]:\n\u001b[0;32m--> 465\u001b[0m   dtypes, weak_types \u001b[39m=\u001b[39m \u001b[39mzip\u001b[39m(\u001b[39m*\u001b[39m(_dtype_and_weaktype(arg) \u001b[39mfor\u001b[39;00m arg \u001b[39min\u001b[39;00m args))\n\u001b[1;32m    466\u001b[0m   \u001b[39mif\u001b[39;00m \u001b[39mlen\u001b[39m(dtypes) \u001b[39m==\u001b[39m \u001b[39m1\u001b[39m:\n",
      "File \u001b[0;32m~/miniconda3/envs/relu/lib/python3.11/site-packages/jax/_src/dtypes.py:313\u001b[0m, in \u001b[0;36m_dtype_and_weaktype\u001b[0;34m(value)\u001b[0m\n\u001b[1;32m    312\u001b[0m \u001b[39m\u001b[39m\u001b[39m\"\"\"Return a (dtype, weak_type) tuple for the given input.\"\"\"\u001b[39;00m\n\u001b[0;32m--> 313\u001b[0m \u001b[39mreturn\u001b[39;00m dtype(value), \u001b[39many\u001b[39m(value \u001b[39mis\u001b[39;00m typ \u001b[39mfor\u001b[39;00m typ \u001b[39min\u001b[39;00m _weak_types) \u001b[39mor\u001b[39;00m is_weakly_typed(value)\n",
      "File \u001b[0;32m~/miniconda3/envs/relu/lib/python3.11/site-packages/jax/_src/dtypes.py:460\u001b[0m, in \u001b[0;36mdtype\u001b[0;34m(x, canonicalize)\u001b[0m\n\u001b[1;32m    459\u001b[0m \u001b[39mif\u001b[39;00m dt \u001b[39mnot\u001b[39;00m \u001b[39min\u001b[39;00m _jax_dtype_set:\n\u001b[0;32m--> 460\u001b[0m   \u001b[39mraise\u001b[39;00m \u001b[39mTypeError\u001b[39;00m(\u001b[39mf\u001b[39m\u001b[39m\"\u001b[39m\u001b[39mValue \u001b[39m\u001b[39m'\u001b[39m\u001b[39m{\u001b[39;00mx\u001b[39m}\u001b[39;00m\u001b[39m'\u001b[39m\u001b[39m with dtype \u001b[39m\u001b[39m{\u001b[39;00mdt\u001b[39m}\u001b[39;00m\u001b[39m is not a valid JAX array \u001b[39m\u001b[39m\"\u001b[39m\n\u001b[1;32m    461\u001b[0m                   \u001b[39m\"\u001b[39m\u001b[39mtype. Only arrays of numeric types are supported by JAX.\u001b[39m\u001b[39m\"\u001b[39m)\n\u001b[1;32m    462\u001b[0m \u001b[39mreturn\u001b[39;00m canonicalize_dtype(dt) \u001b[39mif\u001b[39;00m canonicalize \u001b[39melse\u001b[39;00m dt\n",
      "\u001b[0;31mTypeError\u001b[0m: Value '[2 3 3 1 1 2 0 3 1 1 2 1 2 2 3 0 2 2 0 1 1 3 2 1 3 1 0 3 1 1 3 3 1 0 1 2 0\n 2 3 0]' with dtype object is not a valid JAX array type. Only arrays of numeric types are supported by JAX.",
      "\nDuring handling of the above exception, another exception occurred:\n",
      "\u001b[0;31mTypeError\u001b[0m                                 Traceback (most recent call last)",
      "File \u001b[0;32m~/miniconda3/envs/relu/lib/python3.11/site-packages/sklearn/utils/estimator_checks.py:1152\u001b[0m, in \u001b[0;36mcheck_dtype_object\u001b[0;34m(name, estimator_orig)\u001b[0m\n\u001b[1;32m   1151\u001b[0m \u001b[39mwith\u001b[39;00m raises(\u001b[39mException\u001b[39;00m, match\u001b[39m=\u001b[39m\u001b[39m\"\u001b[39m\u001b[39mUnknown label type\u001b[39m\u001b[39m\"\u001b[39m, may_pass\u001b[39m=\u001b[39m\u001b[39mTrue\u001b[39;00m):\n\u001b[0;32m-> 1152\u001b[0m     estimator\u001b[39m.\u001b[39mfit(X, y\u001b[39m.\u001b[39mastype(\u001b[39mobject\u001b[39m))\n\u001b[1;32m   1154\u001b[0m \u001b[39mif\u001b[39;00m \u001b[39m\"\u001b[39m\u001b[39mstring\u001b[39m\u001b[39m\"\u001b[39m \u001b[39mnot\u001b[39;00m \u001b[39min\u001b[39;00m tags[\u001b[39m\"\u001b[39m\u001b[39mX_types\u001b[39m\u001b[39m\"\u001b[39m]:\n",
      "File \u001b[0;32m~/relu-or-pwl/src/net.py:112\u001b[0m, in \u001b[0;36mfit\u001b[0;34m(self, X, y, X_val, y_val)\u001b[0m\n\u001b[1;32m    109\u001b[0m y_ = jnp.array(y)\n\u001b[1;32m    111\u001b[0m if not (self.warm_start and hasattr(self, 'Wbs_')):\n\u001b[0;32m--> 112\u001b[0m     # initialize weights and biases\n\u001b[1;32m    113\u001b[0m     self.n_features_in_ = X_.shape[1]\n",
      "File \u001b[0;32m~/miniconda3/envs/relu/lib/python3.11/site-packages/jax/_src/numpy/lax_numpy.py:1974\u001b[0m, in \u001b[0;36marray\u001b[0;34m(object, dtype, copy, order, ndmin)\u001b[0m\n\u001b[1;32m   1973\u001b[0m     leaves \u001b[39m=\u001b[39m [_convert_to_array_if_dtype_fails(leaf) \u001b[39mfor\u001b[39;00m leaf \u001b[39min\u001b[39;00m leaves]\n\u001b[0;32m-> 1974\u001b[0m     dtype \u001b[39m=\u001b[39m dtypes\u001b[39m.\u001b[39m_lattice_result_type(\u001b[39m*\u001b[39mleaves)[\u001b[39m0\u001b[39m]\n\u001b[1;32m   1976\u001b[0m \u001b[39mif\u001b[39;00m \u001b[39mnot\u001b[39;00m weak_type:\n",
      "File \u001b[0;32m~/miniconda3/envs/relu/lib/python3.11/site-packages/jax/_src/dtypes.py:465\u001b[0m, in \u001b[0;36m_lattice_result_type\u001b[0;34m(*args)\u001b[0m\n\u001b[1;32m    464\u001b[0m \u001b[39mdef\u001b[39;00m \u001b[39m_lattice_result_type\u001b[39m(\u001b[39m*\u001b[39margs: Any) \u001b[39m-\u001b[39m\u001b[39m>\u001b[39m Tuple[DType, \u001b[39mbool\u001b[39m]:\n\u001b[0;32m--> 465\u001b[0m   dtypes, weak_types \u001b[39m=\u001b[39m \u001b[39mzip\u001b[39m(\u001b[39m*\u001b[39m(_dtype_and_weaktype(arg) \u001b[39mfor\u001b[39;00m arg \u001b[39min\u001b[39;00m args))\n\u001b[1;32m    466\u001b[0m   \u001b[39mif\u001b[39;00m \u001b[39mlen\u001b[39m(dtypes) \u001b[39m==\u001b[39m \u001b[39m1\u001b[39m:\n",
      "File \u001b[0;32m~/miniconda3/envs/relu/lib/python3.11/site-packages/jax/_src/dtypes.py:465\u001b[0m, in \u001b[0;36m<genexpr>\u001b[0;34m(.0)\u001b[0m\n\u001b[1;32m    464\u001b[0m \u001b[39mdef\u001b[39;00m \u001b[39m_lattice_result_type\u001b[39m(\u001b[39m*\u001b[39margs: Any) \u001b[39m-\u001b[39m\u001b[39m>\u001b[39m Tuple[DType, \u001b[39mbool\u001b[39m]:\n\u001b[0;32m--> 465\u001b[0m   dtypes, weak_types \u001b[39m=\u001b[39m \u001b[39mzip\u001b[39m(\u001b[39m*\u001b[39m(_dtype_and_weaktype(arg) \u001b[39mfor\u001b[39;00m arg \u001b[39min\u001b[39;00m args))\n\u001b[1;32m    466\u001b[0m   \u001b[39mif\u001b[39;00m \u001b[39mlen\u001b[39m(dtypes) \u001b[39m==\u001b[39m \u001b[39m1\u001b[39m:\n",
      "File \u001b[0;32m~/miniconda3/envs/relu/lib/python3.11/site-packages/jax/_src/dtypes.py:313\u001b[0m, in \u001b[0;36m_dtype_and_weaktype\u001b[0;34m(value)\u001b[0m\n\u001b[1;32m    312\u001b[0m \u001b[39m\u001b[39m\u001b[39m\"\"\"Return a (dtype, weak_type) tuple for the given input.\"\"\"\u001b[39;00m\n\u001b[0;32m--> 313\u001b[0m \u001b[39mreturn\u001b[39;00m dtype(value), \u001b[39many\u001b[39m(value \u001b[39mis\u001b[39;00m typ \u001b[39mfor\u001b[39;00m typ \u001b[39min\u001b[39;00m _weak_types) \u001b[39mor\u001b[39;00m is_weakly_typed(value)\n",
      "File \u001b[0;32m~/miniconda3/envs/relu/lib/python3.11/site-packages/jax/_src/dtypes.py:460\u001b[0m, in \u001b[0;36mdtype\u001b[0;34m(x, canonicalize)\u001b[0m\n\u001b[1;32m    459\u001b[0m \u001b[39mif\u001b[39;00m dt \u001b[39mnot\u001b[39;00m \u001b[39min\u001b[39;00m _jax_dtype_set:\n\u001b[0;32m--> 460\u001b[0m   \u001b[39mraise\u001b[39;00m \u001b[39mTypeError\u001b[39;00m(\u001b[39mf\u001b[39m\u001b[39m\"\u001b[39m\u001b[39mValue \u001b[39m\u001b[39m'\u001b[39m\u001b[39m{\u001b[39;00mx\u001b[39m}\u001b[39;00m\u001b[39m'\u001b[39m\u001b[39m with dtype \u001b[39m\u001b[39m{\u001b[39;00mdt\u001b[39m}\u001b[39;00m\u001b[39m is not a valid JAX array \u001b[39m\u001b[39m\"\u001b[39m\n\u001b[1;32m    461\u001b[0m                   \u001b[39m\"\u001b[39m\u001b[39mtype. Only arrays of numeric types are supported by JAX.\u001b[39m\u001b[39m\"\u001b[39m)\n\u001b[1;32m    462\u001b[0m \u001b[39mreturn\u001b[39;00m canonicalize_dtype(dt) \u001b[39mif\u001b[39;00m canonicalize \u001b[39melse\u001b[39;00m dt\n",
      "\u001b[0;31mTypeError\u001b[0m: Value '[2 3 3 1 1 2 0 3 1 1 2 1 2 2 3 0 2 2 0 1 1 3 2 1 3 1 0 3 1 1 3 3 1 0 1 2 0\n 2 3 0]' with dtype object is not a valid JAX array type. Only arrays of numeric types are supported by JAX.",
      "\nThe above exception was the direct cause of the following exception:\n",
      "\u001b[0;31mAssertionError\u001b[0m                            Traceback (most recent call last)",
      "Cell \u001b[0;32mIn[41], line 1\u001b[0m\n\u001b[0;32m----> 1\u001b[0m check(estimator)\n",
      "File \u001b[0;32m~/miniconda3/envs/relu/lib/python3.11/site-packages/sklearn/utils/_testing.py:188\u001b[0m, in \u001b[0;36m_IgnoreWarnings.__call__.<locals>.wrapper\u001b[0;34m(*args, **kwargs)\u001b[0m\n\u001b[1;32m    186\u001b[0m \u001b[39mwith\u001b[39;00m warnings\u001b[39m.\u001b[39mcatch_warnings():\n\u001b[1;32m    187\u001b[0m     warnings\u001b[39m.\u001b[39msimplefilter(\u001b[39m\"\u001b[39m\u001b[39mignore\u001b[39m\u001b[39m\"\u001b[39m, \u001b[39mself\u001b[39m\u001b[39m.\u001b[39mcategory)\n\u001b[0;32m--> 188\u001b[0m     \u001b[39mreturn\u001b[39;00m fn(\u001b[39m*\u001b[39margs, \u001b[39m*\u001b[39m\u001b[39m*\u001b[39mkwargs)\n",
      "File \u001b[0;32m~/miniconda3/envs/relu/lib/python3.11/site-packages/sklearn/utils/estimator_checks.py:1151\u001b[0m, in \u001b[0;36mcheck_dtype_object\u001b[0;34m(name, estimator_orig)\u001b[0m\n\u001b[1;32m   1148\u001b[0m \u001b[39mif\u001b[39;00m \u001b[39mhasattr\u001b[39m(estimator, \u001b[39m\"\u001b[39m\u001b[39mtransform\u001b[39m\u001b[39m\"\u001b[39m):\n\u001b[1;32m   1149\u001b[0m     estimator\u001b[39m.\u001b[39mtransform(X)\n\u001b[0;32m-> 1151\u001b[0m \u001b[39mwith\u001b[39;00m raises(\u001b[39mException\u001b[39;00m, match\u001b[39m=\u001b[39m\u001b[39m\"\u001b[39m\u001b[39mUnknown label type\u001b[39m\u001b[39m\"\u001b[39m, may_pass\u001b[39m=\u001b[39m\u001b[39mTrue\u001b[39;00m):\n\u001b[1;32m   1152\u001b[0m     estimator\u001b[39m.\u001b[39mfit(X, y\u001b[39m.\u001b[39mastype(\u001b[39mobject\u001b[39m))\n\u001b[1;32m   1154\u001b[0m \u001b[39mif\u001b[39;00m \u001b[39m\"\u001b[39m\u001b[39mstring\u001b[39m\u001b[39m\"\u001b[39m \u001b[39mnot\u001b[39;00m \u001b[39min\u001b[39;00m tags[\u001b[39m\"\u001b[39m\u001b[39mX_types\u001b[39m\u001b[39m\"\u001b[39m]:\n",
      "File \u001b[0;32m~/miniconda3/envs/relu/lib/python3.11/site-packages/sklearn/utils/_testing.py:929\u001b[0m, in \u001b[0;36m_Raises.__exit__\u001b[0;34m(self, exc_type, exc_value, _)\u001b[0m\n\u001b[1;32m    924\u001b[0m     err_msg \u001b[39m=\u001b[39m \u001b[39mself\u001b[39m\u001b[39m.\u001b[39merr_msg \u001b[39mor\u001b[39;00m (\n\u001b[1;32m    925\u001b[0m         \u001b[39m\"\u001b[39m\u001b[39mThe error message should contain one of the following \u001b[39m\u001b[39m\"\u001b[39m\n\u001b[1;32m    926\u001b[0m         \u001b[39m\"\u001b[39m\u001b[39mpatterns:\u001b[39m\u001b[39m\\n\u001b[39;00m\u001b[39m{}\u001b[39;00m\u001b[39m\\n\u001b[39;00m\u001b[39mGot \u001b[39m\u001b[39m{}\u001b[39;00m\u001b[39m\"\u001b[39m\u001b[39m.\u001b[39mformat(\u001b[39m\"\u001b[39m\u001b[39m\\n\u001b[39;00m\u001b[39m\"\u001b[39m\u001b[39m.\u001b[39mjoin(\u001b[39mself\u001b[39m\u001b[39m.\u001b[39mmatches), \u001b[39mstr\u001b[39m(exc_value))\n\u001b[1;32m    927\u001b[0m     )\n\u001b[1;32m    928\u001b[0m     \u001b[39mif\u001b[39;00m \u001b[39mnot\u001b[39;00m \u001b[39many\u001b[39m(re\u001b[39m.\u001b[39msearch(match, \u001b[39mstr\u001b[39m(exc_value)) \u001b[39mfor\u001b[39;00m match \u001b[39min\u001b[39;00m \u001b[39mself\u001b[39m\u001b[39m.\u001b[39mmatches):\n\u001b[0;32m--> 929\u001b[0m         \u001b[39mraise\u001b[39;00m \u001b[39mAssertionError\u001b[39;00m(err_msg) \u001b[39mfrom\u001b[39;00m \u001b[39mexc_value\u001b[39;00m\n\u001b[1;32m    930\u001b[0m     \u001b[39mself\u001b[39m\u001b[39m.\u001b[39mraised_and_matched \u001b[39m=\u001b[39m \u001b[39mTrue\u001b[39;00m\n\u001b[1;32m    932\u001b[0m \u001b[39mreturn\u001b[39;00m \u001b[39mTrue\u001b[39;00m\n",
      "\u001b[0;31mAssertionError\u001b[0m: The error message should contain one of the following patterns:\nUnknown label type\nGot Value '[2 3 3 1 1 2 0 3 1 1 2 1 2 2 3 0 2 2 0 1 1 3 2 1 3 1 0 3 1 1 3 3 1 0 1 2 0\n 2 3 0]' with dtype object is not a valid JAX array type. Only arrays of numeric types are supported by JAX."
     ]
    }
   ],
   "source": [
    "check(estimator)"
   ]
  }
 ],
 "metadata": {
  "kernelspec": {
   "display_name": "relu",
   "language": "python",
   "name": "python3"
  },
  "language_info": {
   "codemirror_mode": {
    "name": "ipython",
    "version": 3
   },
   "file_extension": ".py",
   "mimetype": "text/x-python",
   "name": "python",
   "nbconvert_exporter": "python",
   "pygments_lexer": "ipython3",
   "version": "3.11.3"
  },
  "orig_nbformat": 4
 },
 "nbformat": 4,
 "nbformat_minor": 2
}
